{
 "cells": [
  {
   "cell_type": "markdown",
   "id": "d66fa1de",
   "metadata": {},
   "source": [
    "# 📊 IoT Dataset – EDA Notebook"
   ]
  },
  {
   "cell_type": "code",
   "execution_count": null,
   "id": "d4d6cedb",
   "metadata": {},
   "outputs": [],
   "source": [
    "\n",
    "# --- Imports ---\n",
    "import pandas as pd\n",
    "import matplotlib.pyplot as plt\n",
    "import seaborn as sns\n",
    "\n"
   ]
  },
  {
   "cell_type": "markdown",
   "id": "1ce9df6a",
   "metadata": {},
   "source": [
    "# --- Load Dataset ---"
   ]
  },
  {
   "cell_type": "code",
   "execution_count": 3,
   "id": "028500bc",
   "metadata": {},
   "outputs": [
    {
     "ename": "NameError",
     "evalue": "name 'pd' is not defined",
     "output_type": "error",
     "traceback": [
      "\u001b[0;31m---------------------------------------------------------------------------\u001b[0m",
      "\u001b[0;31mNameError\u001b[0m                                 Traceback (most recent call last)",
      "Cell \u001b[0;32mIn[3], line 1\u001b[0m\n\u001b[0;32m----> 1\u001b[0m df \u001b[38;5;241m=\u001b[39m pd\u001b[38;5;241m.\u001b[39mread_csv(\u001b[38;5;124m'\u001b[39m\u001b[38;5;124m../data/smart_manufacturing_data.csv\u001b[39m\u001b[38;5;124m'\u001b[39m)  \u001b[38;5;66;03m# Adjust path if needed\u001b[39;00m\n\u001b[1;32m      2\u001b[0m \u001b[38;5;28mprint\u001b[39m(\u001b[38;5;124m\"\u001b[39m\u001b[38;5;124mShape:\u001b[39m\u001b[38;5;124m\"\u001b[39m, df\u001b[38;5;241m.\u001b[39mshape)\n\u001b[1;32m      3\u001b[0m df\u001b[38;5;241m.\u001b[39mhead()\n",
      "\u001b[0;31mNameError\u001b[0m: name 'pd' is not defined"
     ]
    }
   ],
   "source": [
    "\n",
    "df = pd.read_csv('../data/smart_manufacturing_data.csv')  # Adjust path if needed\n",
    "print(\"Shape:\", df.shape)\n",
    "df.head()\n",
    "\n"
   ]
  },
  {
   "cell_type": "code",
   "execution_count": null,
   "id": "4f46bc8b",
   "metadata": {},
   "outputs": [],
   "source": [
    "# --- Basic Info ---\n",
    "df.info()\n",
    "df.describe()\n",
    "\n"
   ]
  },
  {
   "cell_type": "code",
   "execution_count": null,
   "id": "575b8d7a",
   "metadata": {},
   "outputs": [],
   "source": [
    "# --- Check for Missing Values ---\n",
    "print(\"\\nMissing values:\")\n",
    "print(df.isnull().sum())\n",
    "\n"
   ]
  },
  {
   "cell_type": "code",
   "execution_count": null,
   "id": "7f5877a0",
   "metadata": {},
   "outputs": [],
   "source": [
    "# --- Class Balance (e.g., status column) ---\n",
    "if 'status' in df.columns:\n",
    "    print(\"\\nClass distribution:\")\n",
    "    print(df['status'].value_counts())\n",
    "\n"
   ]
  },
  {
   "cell_type": "code",
   "execution_count": null,
   "id": "e7d9bbe9",
   "metadata": {},
   "outputs": [],
   "source": [
    "# --- Timestamp Check (optional) ---\n",
    "if 'timestamp' in df.columns:\n",
    "    df['timestamp'] = pd.to_datetime(df['timestamp'])\n",
    "    df.set_index('timestamp', inplace=True)\n",
    "\n"
   ]
  },
  {
   "cell_type": "markdown",
   "id": "e3b9be85",
   "metadata": {},
   "source": [
    "# --- Visualize Sensor Trends (First 3 Sensors) ---"
   ]
  },
  {
   "cell_type": "code",
   "execution_count": null,
   "id": "3dde0889",
   "metadata": {},
   "outputs": [],
   "source": [
    "\n",
    "sensor_cols = [col for col in df.columns if 'sensor' in col][:3]\n",
    "\n",
    "for col in sensor_cols:\n",
    "    plt.figure(figsize=(12, 4))\n",
    "    sns.lineplot(data=df, x=df.index, y=col, hue='status' if 'status' in df.columns else None)\n",
    "    plt.title(f\"{col} over Time\")\n",
    "    plt.xlabel(\"Time\")\n",
    "    plt.ylabel(\"Reading\")\n",
    "    plt.tight_layout()\n",
    "    plt.show()\n",
    "\n"
   ]
  },
  {
   "cell_type": "code",
   "execution_count": null,
   "id": "194b526e",
   "metadata": {},
   "outputs": [],
   "source": [
    "# --- Correlation Heatmap (Optional) ---\n",
    "plt.figure(figsize=(10, 8))\n",
    "sns.heatmap(df.corr(numeric_only=True), cmap='coolwarm', annot=True, fmt=\".2f\")\n",
    "plt.title(\"Correlation Matrix\")\n",
    "plt.show()"
   ]
  }
 ],
 "metadata": {
  "kernelspec": {
   "display_name": "base",
   "language": "python",
   "name": "python3"
  },
  "language_info": {
   "codemirror_mode": {
    "name": "ipython",
    "version": 3
   },
   "file_extension": ".py",
   "mimetype": "text/x-python",
   "name": "python",
   "nbconvert_exporter": "python",
   "pygments_lexer": "ipython3",
   "version": "3.11.7"
  }
 },
 "nbformat": 4,
 "nbformat_minor": 5
}
