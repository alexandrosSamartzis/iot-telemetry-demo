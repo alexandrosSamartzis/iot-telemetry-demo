{
 "cells": [
  {
   "cell_type": "markdown",
   "id": "55af3976",
   "metadata": {},
   "source": [
    "# IoT Landscape: A Beginner's Quick Reference\n",
    "\n",
    "This table provides a concise overview of key IoT categories, choices, characteristics, and real-world use cases, with an emphasis on low-bandwidth, high-latency environments and security.\n",
    "\n",
    "| Category               | Sub-Category / Choices      | Key Characteristics (for LBHLE*)                                  | Paradigm Example (Short)                                | Common Use Cases                                                                  |\n",
    "| :--------------------- | :-------------------------- | :---------------------------------------------------------------- | :------------------------------------------------------ | :-------------------------------------------------------------------------------- |\n",
    "| **1. Devices** |                             |                                                                 |                                                         |                                                                                   |\n",
    "| Microcontrollers (MCUs) | ESP32, ESP8266, Arduino     | Ultra-low power, limited resources, C/C++ programming.            | Simple sensor sending hourly temp updates.              | Smart light bulbs, basic smart meters, environmental sensors, door/window sensors. |\n",
    "| Single Board Computers (SBCs) | Raspberry Pi, Jetson Nano | More powerful, full OS (Linux), Python/Node.js.                   | Local weather station aggregating multiple sensors.     | Smart home hubs, industrial gateways, edge AI, digital signage.                   |\n",
    "| **2. Communication Technologies (LPWANs)--LowPower** |             |                                                                 |                                                         |                                                                                   |\n",
    "| LoRaWAN - Long Range Wide Area Netw                | LoRa modules/gateways       | Unlicensed spectrum, km range, ultra-low power, very low bandwidth. | Remote sensor sending tiny packets without cellular.    | Smart city parking, agricultural sensors, private asset tracking.                 |\n",
    "| NB-IoT- Narrow Band                 | NB-IoT modules, cellular MNO| Licensed spectrum, ultra-low power, very low bandwidth, deep indoor. | Basement utility meter sending daily reading.           | Smart water/gas meters, stationary industrial sensors, waste bin sensors.         |\n",
    "| LTE-M - Long Term Evolution for Machines                 | LTE-M modules, cellular MNO | Licensed spectrum, good battery life, moderate bandwidth, mobility. | Truck tracker sending location and occasional diagnostics. | Mobile asset tracking, wearables, connected health, complex remote monitoring.    |\n",
    "| **3. Messaging Protocols** |                             |                                                                 |                                                         |                                                                                   |\n",
    "| MQTT -Message Queuing Telemetry Transport                  | Mosquitto, AWS IoT Core     | Lightweight, Publish/Subscribe, efficient over TCP/TLS.           | Light switch publishes \"on,\" bulb subscribes to \"on.\"   | Smart home automation, industrial control, real-time dashboards, cloud integration. |\n",
    "| CoAP- Constrained Application Protocol                   | CoAP libraries              | Lightweight, Request/Response over UDP/DTLS, RESTful.             | Thermostat querying temperature sensor directly.        | Smart lighting, building automation (device-to-device), simple sensor networks.   |\n",
    "| HTTP/HTTPS             | Standard web servers        | Ubiquitous, high overhead, client-server.                         | Smartphone app sending command to smart home hub.       | Web interfaces, cloud API integration, file uploads (from mains-powered devices). |\n",
    "| **4. Cloud Platforms/Frameworks** |                         |                                                                 |                                                         |                                                                                   |\n",
    "| Managed Cloud Services | AWS IoT Core, Azure IoT Hub | Scalable device management, data ingestion, analytics, security.  | Managing millions of parking sensors globally.          | Large-scale deployments, remote updates, advanced analytics, enterprise integration. |\n",
    "| Open Source Platforms  | ThingsBoard                 | Flexible, customizable, often self-hosted.                        | Visualizing data from private farm sensors.             | Custom dashboards, local deployments, specialized industry solutions.              |\n",
    "| **5. Security** |                             |                                                                 |                                                         |                                                                                   |\n",
    "| Foundational Principles | Authentication, Encryption, Secure Updates, Least Privilege, Minimize Attack Surface | Sensor securely sending data with unique ID and encryption. | Smart home device protection, industrial system integrity, data privacy.          |\n",
    "| **6. Edge Computing** |                             |                                                                 |                                                         |                                                                                   |\n",
    "| Edge Devices           | SBCs, Industrial Gateways   | Local data processing, reduces latency/bandwidth, improves privacy. | Factory robot performing real-time quality checks.      | Real-time industrial control, autonomous systems, smart city traffic management.  |\n",
    "\n",
    "**\\*LBHLE:** Low-Bandwidth, High-Latency Environments"
   ]
  },
  {
   "cell_type": "markdown",
   "id": "db20e75b",
   "metadata": {},
   "source": []
  },
  {
   "cell_type": "markdown",
   "id": "f5ffc4ff",
   "metadata": {},
   "source": []
  }
 ],
 "metadata": {
  "language_info": {
   "name": "python"
  }
 },
 "nbformat": 4,
 "nbformat_minor": 5
}
